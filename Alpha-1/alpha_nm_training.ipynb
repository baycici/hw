{
 "cells": [
  {
   "cell_type": "code",
   "execution_count": 1,
   "id": "e09f4533-ae74-41c7-871a-0598843ce4f1",
   "metadata": {},
   "outputs": [
    {
     "name": "stdout",
     "output_type": "stream",
     "text": [
      "Files already downloaded and verified\n",
      "Files already downloaded and verified\n"
     ]
    }
   ],
   "source": [
    "import argparse\n",
    "import os\n",
    "import time\n",
    "import shutil\n",
    "\n",
    "import torch\n",
    "import torch.nn as nn\n",
    "import torch.optim as optim\n",
    "import torch.nn.functional as F\n",
    "import torch.backends.cudnn as cudnn\n",
    "     \n",
    "\n",
    "import torchvision\n",
    "import torchvision.transforms as transforms\n",
    "\n",
    "\n",
    "from models import *\n",
    "use_gpu = torch.cuda.is_available()\n",
    "\n",
    "    \n",
    "    \n",
    "batch_size = 512\n",
    "\n",
    "\n",
    "\n",
    "\n",
    "normalize = transforms.Normalize(mean=[0.491, 0.482, 0.447], std=[0.247, 0.243, 0.262])\n",
    "\n",
    "\n",
    "train_dataset = torchvision.datasets.CIFAR10(\n",
    "    root='./data',\n",
    "    train=True,\n",
    "    download=True,\n",
    "    transform=transforms.Compose([\n",
    "        transforms.RandomCrop(32, padding=4),\n",
    "        transforms.RandomHorizontalFlip(),\n",
    "        transforms.ToTensor(),\n",
    "        normalize,\n",
    "    ]))\n",
    "trainloader = torch.utils.data.DataLoader(train_dataset, batch_size=batch_size, shuffle=True, num_workers=2)\n",
    "\n",
    "\n",
    "test_dataset = torchvision.datasets.CIFAR10(\n",
    "    root='./data',\n",
    "    train=False,\n",
    "    download=True,\n",
    "    transform=transforms.Compose([\n",
    "        transforms.ToTensor(),\n",
    "        normalize,\n",
    "    ]))\n",
    "\n",
    "testloader = torch.utils.data.DataLoader(test_dataset, batch_size=batch_size, shuffle=False, num_workers=2)\n",
    "\n",
    "\n",
    "print_freq = 100 # every 100 batches, accuracy printed. Here, each batch includes \"batch_size\" data points\n",
    "# CIFAR10 has 50,000 training data, and 10,000 validation data.\n",
    "\n",
    "unnec=[]\n",
    "\n",
    "def train(trainloader, model, criterion, optimizer, epoch):\n",
    "    batch_time = AverageMeter()\n",
    "    data_time = AverageMeter()\n",
    "    losses = AverageMeter()\n",
    "    top1 = AverageMeter()\n",
    "\n",
    "    model.train()\n",
    "\n",
    "    end = time.time()\n",
    "    for i, (input, target) in enumerate(trainloader):\n",
    "        # measure data loading time\n",
    "        data_time.update(time.time() - end)\n",
    "\n",
    "        input, target = input.cuda(), target.cuda()\n",
    "\n",
    "        # compute output\n",
    "        output = model(input)\n",
    "        loss = criterion(output, target)\n",
    "\n",
    "        # measure accuracy and record loss\n",
    "        prec = accuracy(output, target)[0]\n",
    "        \n",
    "        losses.update(loss.item(), input.size(0))\n",
    "        top1.update(prec.item(), input.size(0))\n",
    "        if prec<90:\n",
    "        # compute gradient and do SGD step\n",
    "         optimizer.zero_grad()\n",
    "        \n",
    "         loss.backward()\n",
    "         optimizer.step()\n",
    "\n",
    "        # measure elapsed time\n",
    "        batch_time.update(time.time() - end)\n",
    "        end = time.time()\n",
    "\n",
    "\n",
    "        if i % print_freq == 0:\n",
    "            print('Epoch: [{0}][{1}/{2}]\\t'\n",
    "                  'Time {batch_time.val:.3f} ({batch_time.avg:.3f})\\t'\n",
    "                  'Data {data_time.val:.3f} ({data_time.avg:.3f})\\t'\n",
    "                  'Loss {loss.val:.4f} ({loss.avg:.4f})\\t'\n",
    "                  'Prec {top1.val:.3f}% ({top1.avg:.3f}%)'.format(\n",
    "                   epoch, i, len(trainloader), batch_time=batch_time,\n",
    "                   data_time=data_time, loss=losses, top1=top1))\n",
    "\n",
    "            \n",
    "\n",
    "def validate(val_loader, model, criterion ):\n",
    "    batch_time = AverageMeter()\n",
    "    losses = AverageMeter()\n",
    "    top1 = AverageMeter()\n",
    "\n",
    "    # switch to evaluate mode\n",
    "    model.eval()\n",
    "\n",
    "    end = time.time()\n",
    "    with torch.no_grad():\n",
    "        for i, (input, target) in enumerate(val_loader):\n",
    "         \n",
    "            input, target = input.cuda(), target.cuda()\n",
    "\n",
    "            # compute output\n",
    "            output = model(input)\n",
    "            loss = criterion(output, target)\n",
    "\n",
    "            # measure accuracy and record loss\n",
    "            prec = accuracy(output, target)[0]\n",
    "            losses.update(loss.item(), input.size(0))\n",
    "            top1.update(prec.item(), input.size(0))\n",
    "\n",
    "            # measure elapsed time\n",
    "            batch_time.update(time.time() - end)\n",
    "            end = time.time()\n",
    "\n",
    "            if i % print_freq == 0:  # This line shows how frequently print out the status. e.g., i%5 => every 5 batch, prints out\n",
    "                print('Test: [{0}/{1}]\\t'\n",
    "                  'Time {batch_time.val:.3f} ({batch_time.avg:.3f})\\t'\n",
    "                  'Loss {loss.val:.4f} ({loss.avg:.4f})\\t'\n",
    "                  'Prec {top1.val:.3f}% ({top1.avg:.3f}%)'.format(\n",
    "                   i, len(val_loader), batch_time=batch_time, loss=losses,\n",
    "                   top1=top1))\n",
    "\n",
    "    print(' * Prec {top1.avg:.3f}% '.format(top1=top1))\n",
    "    return top1.avg\n",
    "\n",
    "\n",
    "def accuracy(output, target, topk=(1,)):\n",
    "    \"\"\"Computes the precision@k for the specified values of k\"\"\"\n",
    "    maxk = max(topk)\n",
    "    batch_size = target.size(0)\n",
    "\n",
    "    _, pred = output.topk(maxk, 1, True, True)\n",
    "    pred = pred.t()\n",
    "    correct = pred.eq(target.view(1, -1).expand_as(pred))\n",
    "\n",
    "    res = []\n",
    "    for k in topk:\n",
    "        correct_k = correct[:k].view(-1).float().sum(0)\n",
    "        res.append(correct_k.mul_(100.0 / batch_size))\n",
    "    return res\n",
    "\n",
    "\n",
    "class AverageMeter(object):\n",
    "    \"\"\"Computes and stores the average and current value\"\"\"\n",
    "    def __init__(self):\n",
    "        self.reset()\n",
    "\n",
    "    def reset(self):\n",
    "        self.val = 0\n",
    "        self.avg = 0\n",
    "        self.sum = 0\n",
    "        self.count = 0\n",
    "\n",
    "    def update(self, val, n=1):\n",
    "        self.val = val\n",
    "        self.sum += val * n\n",
    "        self.count += n\n",
    "        self.avg = self.sum / self.count\n",
    "\n",
    "        \n",
    "def save_checkpoint(state, is_best, fdir):\n",
    "    filepath = os.path.join(fdir, 'checkpoint.pth')\n",
    "    torch.save(state, filepath)\n",
    "    if is_best:\n",
    "        shutil.copyfile(filepath, os.path.join(fdir, 'model_best.pth.tar'))\n",
    "\n",
    "\n",
    "def adjust_learning_rate(optimizer, epoch):\n",
    "    \"\"\"For resnet, the lr starts from 0.1, and is divided by 10 at 80 and 120 epochs\"\"\"\n",
    "    adjust_list = [150, 225]\n",
    "    if epoch in adjust_list:\n",
    "        for param_group in optimizer.param_groups:\n",
    "            param_group['lr'] = param_group['lr'] * 0.1        \n",
    "\n",
    "#model = nn.DataParallel(model).cuda()\n",
    "#all_params = checkpoint['state_dict']\n",
    "#model.load_state_dict(all_params, strict=False)\n",
    "#criterion = nn.CrossEntropyLoss().cuda()\n",
    "#validate(testloader, model, criterion)"
   ]
  },
  {
   "cell_type": "code",
   "execution_count": 2,
   "id": "30f97acf-4cc5-4683-8887-1125227b7c88",
   "metadata": {},
   "outputs": [
    {
     "name": "stdout",
     "output_type": "stream",
     "text": [
      "Test: [0/20]\tTime 4.329 (4.329)\tLoss 0.2812 (0.2812)\tPrec 90.820% (90.820%)\n",
      " * Prec 90.160% \n"
     ]
    }
   ],
   "source": [
    "\n",
    "\n",
    "criterion = nn.CrossEntropyLoss().cuda()\n",
    "model_name='VGG16_quant_project_final'\n",
    "model =VGG16_quant_project().cuda()\n",
    "\n",
    "try:\n",
    "  model.load_state_dict(torch.load('result/'+model_name+'/model_best.pth.tar')['state_dict'])\n",
    "  best_prec =  validate(testloader, model, criterion)\n",
    "    \n",
    "except:\n",
    "    print(\"start from scracth\")\n",
    "    best_prec =  0\n",
    "\n"
   ]
  },
  {
   "cell_type": "code",
   "execution_count": 3,
   "id": "2023247d-f913-4459-9cce-5ee0dbc423a8",
   "metadata": {},
   "outputs": [],
   "source": [
    "\n",
    "#step 1 create the mask for prunning 1 out of 4 inputs\n",
    "x=model.features[27].weight\n",
    "x=x.add(-x.mean())\n",
    "y=x.reshape(x.shape[0],x.shape[1],-1)\n",
    "y=y.reshape(-1,y.shape[2]).t()\n",
    "y=y.reshape(y.shape[0],x.shape[0],x.shape[1])\n",
    "y=y.reshape(y.shape[0],y.shape[1],-1,2)\n",
    "\n",
    "mask=torch.ones_like(y)\n",
    "for i in range(y.shape[0]):\n",
    "    for j in range(y.shape[1]):\n",
    "        for k in range(y.shape[2]):\n",
    "            mask[i][j][k][torch.argmin(y[i][j][k].abs())]=0\n",
    "global_mask=mask.reshape(9,8,-1).reshape(9,-1).t().reshape(8,8,9).reshape(8,8,3,3).cuda()  \n",
    "\n",
    "#step 2 prune and change the training algirithm to keep them pruned\n",
    "\n"
   ]
  },
  {
   "cell_type": "code",
   "execution_count": 4,
   "id": "2420bf0c-1e8e-4776-b049-d68f4561fb85",
   "metadata": {},
   "outputs": [
    {
     "name": "stdout",
     "output_type": "stream",
     "text": [
      "Test: [0/20]\tTime 0.627 (0.627)\tLoss 0.2812 (0.2812)\tPrec 90.820% (90.820%)\n",
      " * Prec 90.160% \n"
     ]
    }
   ],
   "source": [
    "model.features[27].weight.data=model.features[27].weight.data*global_mask\n",
    "model.features[27].weight.data=model.features[27].weight.data+(1-global_mask)*model.features[27].weight.data.mean()*2\n",
    "best_prec =  validate(testloader, model, criterion)"
   ]
  },
  {
   "cell_type": "code",
   "execution_count": 5,
   "id": "4ff21cc1-9c7d-4466-b219-b3d557595643",
   "metadata": {},
   "outputs": [
    {
     "data": {
      "text/plain": [
       "tensor([ 0.0000, -1.8412,  0.0000, -0.3069,  0.0000,  1.8412,  1.8412,  0.0000],\n",
       "       device='cuda:0', grad_fn=<SelectBackward0>)"
      ]
     },
     "execution_count": 5,
     "metadata": {},
     "output_type": "execute_result"
    }
   ],
   "source": [
    "model.features[27].weight_q.reshape(8,8,9).reshape(64,9).t().reshape(9,8,8)[0][3]"
   ]
  },
  {
   "cell_type": "code",
   "execution_count": null,
   "id": "637c791a-2e85-4959-843e-8136377c184e",
   "metadata": {},
   "outputs": [],
   "source": [
    "save_checkpoint({\n",
    "        'epoch': epoch + 1,\n",
    "        'state_dict': model.state_dict(),\n",
    "        'best_prec': best_prec,\n",
    "        'optimizer': optimizer.state_dict(),\n",
    "    }, True, fdir)"
   ]
  },
  {
   "cell_type": "code",
   "execution_count": null,
   "id": "6fbff0f6-d12c-45b5-9c4f-4e12711f98f8",
   "metadata": {},
   "outputs": [],
   "source": [
    "lr = 1e-5\n",
    "weight_decay = 1e-5\n",
    "epochs = 40\n",
    "\n",
    "\n",
    "\n",
    "\n",
    "optimizer = torch.optim.Adam(model.parameters(), lr=lr, weight_decay=weight_decay)\n",
    "# weight decay: for regularization to prevent overfitting\n",
    "\n",
    "\n",
    "if not os.path.exists('result'):\n",
    "    os.makedirs('result')\n",
    "    \n",
    "fdir = 'result/'+str(model_name)\n",
    "\n",
    "if not os.path.exists(fdir):\n",
    "    os.makedirs(fdir)\n",
    "\n",
    "\n",
    "\n",
    "while best_prec<92:\n",
    "\n",
    " for param_group in optimizer.param_groups:\n",
    "            param_group['lr'] = param_group['lr'] * 0.5   \n",
    "\n",
    "\n",
    "\n",
    " for epoch in range(0, epochs):\n",
    "    adjust_learning_rate(optimizer, epoch)\n",
    "\n",
    "    train(trainloader, model, criterion, optimizer, epoch)\n",
    "    model.features[27].weight.data=model.features[27].weight.data*global_mask\n",
    "    model.features[27].weight.data=model.features[27].weight.data+(1-global_mask)*model.features[27].weight.data.mean()*2\n",
    "   \n",
    " \n",
    "        \n",
    "    # evaluate on test set\n",
    "    print(\"Validation starts\")\n",
    "    prec = validate(testloader, model, criterion)\n",
    "\n",
    "    # remember best precision and save checkpoint\n",
    "    is_best = prec > best_prec\n",
    "    best_prec = max(prec,best_prec)\n",
    "    print('best acc: {:1f}'.format(best_prec))\n",
    "    save_checkpoint({\n",
    "        'epoch': epoch + 1,\n",
    "        'state_dict': model.state_dict(),\n",
    "        'best_prec': best_prec,\n",
    "        'optimizer': optimizer.state_dict(),\n",
    "    }, is_best, fdir)\n",
    "\n",
    "\n"
   ]
  },
  {
   "cell_type": "code",
   "execution_count": null,
   "id": "edad3774-2b60-4721-b9f4-ac72d3286f05",
   "metadata": {},
   "outputs": [],
   "source": [
    "class SaveOutput:\n",
    "    def __init__(self):\n",
    "        self.outputs = []\n",
    "    def __call__(self, module, module_in):\n",
    "        self.outputs.append(module_in)\n",
    "    def clear(self):\n",
    "        self.outputs = []  \n",
    "        \n",
    "######### Save inputs from selected layer ##########\n",
    "save_output = SaveOutput()\n",
    "i = 0\n",
    "\n",
    "for layer in model.modules():\n",
    "    i = i+1\n",
    "    if isinstance(layer, QuantConv2d):\n",
    "        print(i,\"-th layer prehooked\")\n",
    "        layer.register_forward_pre_hook(save_output)             \n",
    "####################################################\n",
    "\n",
    "for images, labels in testloader:    \n",
    "    out = model(images.cuda())\n",
    "    break \n"
   ]
  },
  {
   "cell_type": "code",
   "execution_count": null,
   "id": "16a86ca4-4157-4ad7-bc29-9766a38c3328",
   "metadata": {},
   "outputs": [],
   "source": [
    "weight_q = model.features[27].weight_q\n",
    "w_alpha = model.features[27].weight_quant.wgt_alpha\n",
    "w_bit = 4\n",
    "\n",
    "weight_int = weight_q / (w_alpha / (2**(w_bit-1)-1))"
   ]
  },
  {
   "cell_type": "code",
   "execution_count": null,
   "id": "d7a16b49-bf19-49e0-aa64-413cd0e5a8cf",
   "metadata": {},
   "outputs": [],
   "source": [
    "act = save_output.outputs[8][0]\n",
    "act_alpha  = model.features[27].act_alpha\n",
    "act_bit = 4\n",
    "act_quant_fn = act_quantization(act_bit)\n",
    "\n",
    "act_q = act_quant_fn(act, act_alpha)\n",
    "\n",
    "act_int = act_q / (act_alpha / (2**act_bit-1))"
   ]
  },
  {
   "cell_type": "code",
   "execution_count": null,
   "id": "78f2d630-b24d-4e7f-a3cc-c92c8ac6617d",
   "metadata": {},
   "outputs": [],
   "source": [
    "conv_int = torch.nn.Conv2d(in_channels = 8, out_channels=8, kernel_size = 3, padding=1)\n",
    "conv_int.weight = torch.nn.parameter.Parameter(weight_int)\n",
    "conv_int.bias = model.features[27].bias\n",
    "output_int = conv_int(act_int)\n",
    "output_recovered = output_int * (act_alpha / (2**act_bit-1)) * (w_alpha / (2**(w_bit-1)-1))"
   ]
  },
  {
   "cell_type": "code",
   "execution_count": null,
   "id": "f62a7766-0206-49a0-b26b-b48c287cfc67",
   "metadata": {},
   "outputs": [],
   "source": [
    "output_recovered=nn.ReLU()(output_recovered)"
   ]
  },
  {
   "cell_type": "code",
   "execution_count": null,
   "id": "e903b35b-7b25-4612-a831-006e5710c13f",
   "metadata": {},
   "outputs": [],
   "source": [
    "(save_output.outputs[9][0]-output_recovered).abs().sum()/512"
   ]
  },
  {
   "cell_type": "code",
   "execution_count": null,
   "id": "42e42635-3a88-4b2f-8df1-76a8064991ad",
   "metadata": {},
   "outputs": [],
   "source": [
    "save_checkpoint({\n",
    "        'epoch': epoch + 1,\n",
    "        'state_dict': model.state_dict(),\n",
    "        'best_prec': best_prec,\n",
    "        'optimizer': optimizer.state_dict(),\n",
    "    }, True, fdir)"
   ]
  },
  {
   "cell_type": "code",
   "execution_count": null,
   "id": "5632d65f-ac07-469f-bfae-2bc88a93c2f1",
   "metadata": {},
   "outputs": [],
   "source": [
    "model = VGG16_quant_project().cuda()"
   ]
  },
  {
   "cell_type": "code",
   "execution_count": null,
   "id": "e3ed1d2a-643b-4472-b2f8-ae0aa6925aae",
   "metadata": {},
   "outputs": [],
   "source": [
    "prec =  validate(testloader, model, criterion)"
   ]
  },
  {
   "cell_type": "code",
   "execution_count": null,
   "id": "659746d3-3915-40d1-9549-77228b93cd8c",
   "metadata": {},
   "outputs": [],
   "source": [
    "for i in range(20):\n",
    "    if(i%4==0):\n",
    "        pass\n",
    "    print(i)"
   ]
  },
  {
   "cell_type": "code",
   "execution_count": null,
   "id": "02bbe536-9931-4d22-a125-da1d233eca19",
   "metadata": {},
   "outputs": [],
   "source": [
    "prec=0"
   ]
  },
  {
   "cell_type": "code",
   "execution_count": null,
   "id": "a6236773-50fc-430d-882f-a8ae116d0ff6",
   "metadata": {},
   "outputs": [],
   "source": []
  },
  {
   "cell_type": "code",
   "execution_count": null,
   "id": "0ef13c9b-283b-4b42-9fc3-e12b4446dc24",
   "metadata": {},
   "outputs": [],
   "source": [
    "model.features[27].weight_q.shape"
   ]
  },
  {
   "cell_type": "code",
   "execution_count": null,
   "id": "7fdef1af-37b9-4886-8131-35e747aad7e1",
   "metadata": {},
   "outputs": [],
   "source": [
    "model_name"
   ]
  },
  {
   "cell_type": "code",
   "execution_count": null,
   "id": "653d8243-eb23-404a-86f2-e3c0524f6f49",
   "metadata": {},
   "outputs": [],
   "source": []
  }
 ],
 "metadata": {
  "kernelspec": {
   "display_name": "Python 3 (ipykernel)",
   "language": "python",
   "name": "python3"
  },
  "language_info": {
   "codemirror_mode": {
    "name": "ipython",
    "version": 3
   },
   "file_extension": ".py",
   "mimetype": "text/x-python",
   "name": "python",
   "nbconvert_exporter": "python",
   "pygments_lexer": "ipython3",
   "version": "3.11.9"
  }
 },
 "nbformat": 4,
 "nbformat_minor": 5
}
